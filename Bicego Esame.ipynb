{
 "cells": [
  {
   "cell_type": "code",
   "execution_count": 80,
   "metadata": {},
   "outputs": [],
   "source": [
    "import pandas as pd\n",
    "import plotly.express as px\n",
    "import matplotlib.pyplot as plt\n",
    "from dataprep.clean import clean_country, clean_df, validate_lat_long, clean_headers\n",
    "import json"
   ]
  },
  {
   "cell_type": "code",
   "execution_count": 81,
   "metadata": {},
   "outputs": [],
   "source": [
    "food_pr_df = pd.read_csv(\"Food_production.csv\")"
   ]
  },
  {
   "cell_type": "code",
   "execution_count": 82,
   "metadata": {},
   "outputs": [
    {
     "data": {
      "text/html": [
       "<div>\n",
       "<style scoped>\n",
       "    .dataframe tbody tr th:only-of-type {\n",
       "        vertical-align: middle;\n",
       "    }\n",
       "\n",
       "    .dataframe tbody tr th {\n",
       "        vertical-align: top;\n",
       "    }\n",
       "\n",
       "    .dataframe thead th {\n",
       "        text-align: right;\n",
       "    }\n",
       "</style>\n",
       "<table border=\"1\" class=\"dataframe\">\n",
       "  <thead>\n",
       "    <tr style=\"text-align: right;\">\n",
       "      <th></th>\n",
       "      <th>Food product</th>\n",
       "      <th>Land use change</th>\n",
       "      <th>Animal Feed</th>\n",
       "      <th>Farm</th>\n",
       "      <th>Processing</th>\n",
       "      <th>Transport</th>\n",
       "      <th>Packging</th>\n",
       "      <th>Retail</th>\n",
       "      <th>Total_emissions</th>\n",
       "      <th>Eutrophying emissions per 1000kcal (gPO₄eq per 1000kcal)</th>\n",
       "      <th>...</th>\n",
       "      <th>Freshwater withdrawals per 100g protein (liters per 100g protein)</th>\n",
       "      <th>Freshwater withdrawals per kilogram (liters per kilogram)</th>\n",
       "      <th>Greenhouse gas emissions per 1000kcal (kgCO₂eq per 1000kcal)</th>\n",
       "      <th>Greenhouse gas emissions per 100g protein (kgCO₂eq per 100g protein)</th>\n",
       "      <th>Land use per 1000kcal (m² per 1000kcal)</th>\n",
       "      <th>Land use per kilogram (m² per kilogram)</th>\n",
       "      <th>Land use per 100g protein (m² per 100g protein)</th>\n",
       "      <th>Scarcity-weighted water use per kilogram (liters per kilogram)</th>\n",
       "      <th>Scarcity-weighted water use per 100g protein (liters per 100g protein)</th>\n",
       "      <th>Scarcity-weighted water use per 1000kcal (liters per 1000 kilocalories)</th>\n",
       "    </tr>\n",
       "  </thead>\n",
       "  <tbody>\n",
       "    <tr>\n",
       "      <th>0</th>\n",
       "      <td>Wheat &amp; Rye (Bread)</td>\n",
       "      <td>0.1</td>\n",
       "      <td>0.0</td>\n",
       "      <td>0.8</td>\n",
       "      <td>0.2</td>\n",
       "      <td>0.1</td>\n",
       "      <td>0.1</td>\n",
       "      <td>0.1</td>\n",
       "      <td>1.4</td>\n",
       "      <td>NaN</td>\n",
       "      <td>...</td>\n",
       "      <td>NaN</td>\n",
       "      <td>NaN</td>\n",
       "      <td>NaN</td>\n",
       "      <td>NaN</td>\n",
       "      <td>NaN</td>\n",
       "      <td>NaN</td>\n",
       "      <td>NaN</td>\n",
       "      <td>NaN</td>\n",
       "      <td>NaN</td>\n",
       "      <td>NaN</td>\n",
       "    </tr>\n",
       "    <tr>\n",
       "      <th>1</th>\n",
       "      <td>Maize (Meal)</td>\n",
       "      <td>0.3</td>\n",
       "      <td>0.0</td>\n",
       "      <td>0.5</td>\n",
       "      <td>0.1</td>\n",
       "      <td>0.1</td>\n",
       "      <td>0.1</td>\n",
       "      <td>0.0</td>\n",
       "      <td>1.1</td>\n",
       "      <td>NaN</td>\n",
       "      <td>...</td>\n",
       "      <td>NaN</td>\n",
       "      <td>NaN</td>\n",
       "      <td>NaN</td>\n",
       "      <td>NaN</td>\n",
       "      <td>NaN</td>\n",
       "      <td>NaN</td>\n",
       "      <td>NaN</td>\n",
       "      <td>NaN</td>\n",
       "      <td>NaN</td>\n",
       "      <td>NaN</td>\n",
       "    </tr>\n",
       "    <tr>\n",
       "      <th>2</th>\n",
       "      <td>Barley (Beer)</td>\n",
       "      <td>0.0</td>\n",
       "      <td>0.0</td>\n",
       "      <td>0.2</td>\n",
       "      <td>0.1</td>\n",
       "      <td>0.0</td>\n",
       "      <td>0.5</td>\n",
       "      <td>0.3</td>\n",
       "      <td>1.1</td>\n",
       "      <td>NaN</td>\n",
       "      <td>...</td>\n",
       "      <td>NaN</td>\n",
       "      <td>NaN</td>\n",
       "      <td>NaN</td>\n",
       "      <td>NaN</td>\n",
       "      <td>NaN</td>\n",
       "      <td>NaN</td>\n",
       "      <td>NaN</td>\n",
       "      <td>NaN</td>\n",
       "      <td>NaN</td>\n",
       "      <td>NaN</td>\n",
       "    </tr>\n",
       "    <tr>\n",
       "      <th>3</th>\n",
       "      <td>Oatmeal</td>\n",
       "      <td>0.0</td>\n",
       "      <td>0.0</td>\n",
       "      <td>1.4</td>\n",
       "      <td>0.0</td>\n",
       "      <td>0.1</td>\n",
       "      <td>0.1</td>\n",
       "      <td>0.0</td>\n",
       "      <td>1.6</td>\n",
       "      <td>4.281357</td>\n",
       "      <td>...</td>\n",
       "      <td>371.076923</td>\n",
       "      <td>482.4</td>\n",
       "      <td>0.945482</td>\n",
       "      <td>1.907692</td>\n",
       "      <td>2.897446</td>\n",
       "      <td>7.60</td>\n",
       "      <td>5.846154</td>\n",
       "      <td>18786.2</td>\n",
       "      <td>14450.92308</td>\n",
       "      <td>7162.104461</td>\n",
       "    </tr>\n",
       "    <tr>\n",
       "      <th>4</th>\n",
       "      <td>Rice</td>\n",
       "      <td>0.0</td>\n",
       "      <td>0.0</td>\n",
       "      <td>3.6</td>\n",
       "      <td>0.1</td>\n",
       "      <td>0.1</td>\n",
       "      <td>0.1</td>\n",
       "      <td>0.1</td>\n",
       "      <td>4.0</td>\n",
       "      <td>9.514379</td>\n",
       "      <td>...</td>\n",
       "      <td>3166.760563</td>\n",
       "      <td>2248.4</td>\n",
       "      <td>1.207271</td>\n",
       "      <td>6.267606</td>\n",
       "      <td>0.759631</td>\n",
       "      <td>2.80</td>\n",
       "      <td>3.943662</td>\n",
       "      <td>49576.3</td>\n",
       "      <td>69825.77465</td>\n",
       "      <td>13449.891480</td>\n",
       "    </tr>\n",
       "    <tr>\n",
       "      <th>5</th>\n",
       "      <td>Potatoes</td>\n",
       "      <td>0.0</td>\n",
       "      <td>0.0</td>\n",
       "      <td>0.2</td>\n",
       "      <td>0.0</td>\n",
       "      <td>0.1</td>\n",
       "      <td>0.0</td>\n",
       "      <td>0.0</td>\n",
       "      <td>0.3</td>\n",
       "      <td>4.754098</td>\n",
       "      <td>...</td>\n",
       "      <td>347.647059</td>\n",
       "      <td>59.1</td>\n",
       "      <td>0.628415</td>\n",
       "      <td>2.705882</td>\n",
       "      <td>1.202186</td>\n",
       "      <td>0.88</td>\n",
       "      <td>5.176471</td>\n",
       "      <td>2754.2</td>\n",
       "      <td>16201.17647</td>\n",
       "      <td>3762.568306</td>\n",
       "    </tr>\n",
       "    <tr>\n",
       "      <th>6</th>\n",
       "      <td>Cassava</td>\n",
       "      <td>0.6</td>\n",
       "      <td>0.0</td>\n",
       "      <td>0.2</td>\n",
       "      <td>0.0</td>\n",
       "      <td>0.1</td>\n",
       "      <td>0.0</td>\n",
       "      <td>0.0</td>\n",
       "      <td>0.9</td>\n",
       "      <td>0.708419</td>\n",
       "      <td>...</td>\n",
       "      <td>NaN</td>\n",
       "      <td>0.0</td>\n",
       "      <td>1.355236</td>\n",
       "      <td>14.666667</td>\n",
       "      <td>1.858316</td>\n",
       "      <td>1.81</td>\n",
       "      <td>20.111111</td>\n",
       "      <td>0.0</td>\n",
       "      <td>NaN</td>\n",
       "      <td>NaN</td>\n",
       "    </tr>\n",
       "    <tr>\n",
       "      <th>7</th>\n",
       "      <td>Cane Sugar</td>\n",
       "      <td>1.2</td>\n",
       "      <td>0.0</td>\n",
       "      <td>0.5</td>\n",
       "      <td>0.0</td>\n",
       "      <td>0.8</td>\n",
       "      <td>0.1</td>\n",
       "      <td>0.0</td>\n",
       "      <td>2.6</td>\n",
       "      <td>4.820513</td>\n",
       "      <td>...</td>\n",
       "      <td>NaN</td>\n",
       "      <td>620.1</td>\n",
       "      <td>0.911681</td>\n",
       "      <td>NaN</td>\n",
       "      <td>0.581197</td>\n",
       "      <td>2.04</td>\n",
       "      <td>NaN</td>\n",
       "      <td>16438.6</td>\n",
       "      <td>NaN</td>\n",
       "      <td>4683.361823</td>\n",
       "    </tr>\n",
       "    <tr>\n",
       "      <th>8</th>\n",
       "      <td>Beet Sugar</td>\n",
       "      <td>0.0</td>\n",
       "      <td>0.0</td>\n",
       "      <td>0.5</td>\n",
       "      <td>0.2</td>\n",
       "      <td>0.6</td>\n",
       "      <td>0.1</td>\n",
       "      <td>0.0</td>\n",
       "      <td>1.4</td>\n",
       "      <td>1.541311</td>\n",
       "      <td>...</td>\n",
       "      <td>NaN</td>\n",
       "      <td>217.7</td>\n",
       "      <td>0.515670</td>\n",
       "      <td>NaN</td>\n",
       "      <td>0.521368</td>\n",
       "      <td>1.83</td>\n",
       "      <td>NaN</td>\n",
       "      <td>9493.3</td>\n",
       "      <td>NaN</td>\n",
       "      <td>2704.643875</td>\n",
       "    </tr>\n",
       "    <tr>\n",
       "      <th>9</th>\n",
       "      <td>Other Pulses</td>\n",
       "      <td>0.0</td>\n",
       "      <td>0.0</td>\n",
       "      <td>1.1</td>\n",
       "      <td>0.0</td>\n",
       "      <td>0.1</td>\n",
       "      <td>0.4</td>\n",
       "      <td>0.0</td>\n",
       "      <td>1.6</td>\n",
       "      <td>5.008798</td>\n",
       "      <td>...</td>\n",
       "      <td>203.503036</td>\n",
       "      <td>435.7</td>\n",
       "      <td>0.524927</td>\n",
       "      <td>0.836058</td>\n",
       "      <td>4.565982</td>\n",
       "      <td>15.57</td>\n",
       "      <td>7.272303</td>\n",
       "      <td>22477.4</td>\n",
       "      <td>10498.55208</td>\n",
       "      <td>NaN</td>\n",
       "    </tr>\n",
       "  </tbody>\n",
       "</table>\n",
       "<p>10 rows × 23 columns</p>\n",
       "</div>"
      ],
      "text/plain": [
       "          Food product  Land use change  Animal Feed  Farm  Processing  \\\n",
       "0  Wheat & Rye (Bread)              0.1          0.0   0.8         0.2   \n",
       "1         Maize (Meal)              0.3          0.0   0.5         0.1   \n",
       "2        Barley (Beer)              0.0          0.0   0.2         0.1   \n",
       "3              Oatmeal              0.0          0.0   1.4         0.0   \n",
       "4                 Rice              0.0          0.0   3.6         0.1   \n",
       "5             Potatoes              0.0          0.0   0.2         0.0   \n",
       "6              Cassava              0.6          0.0   0.2         0.0   \n",
       "7           Cane Sugar              1.2          0.0   0.5         0.0   \n",
       "8           Beet Sugar              0.0          0.0   0.5         0.2   \n",
       "9         Other Pulses              0.0          0.0   1.1         0.0   \n",
       "\n",
       "   Transport  Packging  Retail  Total_emissions  \\\n",
       "0        0.1       0.1     0.1              1.4   \n",
       "1        0.1       0.1     0.0              1.1   \n",
       "2        0.0       0.5     0.3              1.1   \n",
       "3        0.1       0.1     0.0              1.6   \n",
       "4        0.1       0.1     0.1              4.0   \n",
       "5        0.1       0.0     0.0              0.3   \n",
       "6        0.1       0.0     0.0              0.9   \n",
       "7        0.8       0.1     0.0              2.6   \n",
       "8        0.6       0.1     0.0              1.4   \n",
       "9        0.1       0.4     0.0              1.6   \n",
       "\n",
       "   Eutrophying emissions per 1000kcal (gPO₄eq per 1000kcal)  ...  \\\n",
       "0                                                NaN         ...   \n",
       "1                                                NaN         ...   \n",
       "2                                                NaN         ...   \n",
       "3                                           4.281357         ...   \n",
       "4                                           9.514379         ...   \n",
       "5                                           4.754098         ...   \n",
       "6                                           0.708419         ...   \n",
       "7                                           4.820513         ...   \n",
       "8                                           1.541311         ...   \n",
       "9                                           5.008798         ...   \n",
       "\n",
       "   Freshwater withdrawals per 100g protein (liters per 100g protein)  \\\n",
       "0                                                NaN                   \n",
       "1                                                NaN                   \n",
       "2                                                NaN                   \n",
       "3                                         371.076923                   \n",
       "4                                        3166.760563                   \n",
       "5                                         347.647059                   \n",
       "6                                                NaN                   \n",
       "7                                                NaN                   \n",
       "8                                                NaN                   \n",
       "9                                         203.503036                   \n",
       "\n",
       "   Freshwater withdrawals per kilogram (liters per kilogram)  \\\n",
       "0                                                NaN           \n",
       "1                                                NaN           \n",
       "2                                                NaN           \n",
       "3                                              482.4           \n",
       "4                                             2248.4           \n",
       "5                                               59.1           \n",
       "6                                                0.0           \n",
       "7                                              620.1           \n",
       "8                                              217.7           \n",
       "9                                              435.7           \n",
       "\n",
       "   Greenhouse gas emissions per 1000kcal (kgCO₂eq per 1000kcal)  \\\n",
       "0                                                NaN              \n",
       "1                                                NaN              \n",
       "2                                                NaN              \n",
       "3                                           0.945482              \n",
       "4                                           1.207271              \n",
       "5                                           0.628415              \n",
       "6                                           1.355236              \n",
       "7                                           0.911681              \n",
       "8                                           0.515670              \n",
       "9                                           0.524927              \n",
       "\n",
       "   Greenhouse gas emissions per 100g protein (kgCO₂eq per 100g protein)  \\\n",
       "0                                                NaN                      \n",
       "1                                                NaN                      \n",
       "2                                                NaN                      \n",
       "3                                           1.907692                      \n",
       "4                                           6.267606                      \n",
       "5                                           2.705882                      \n",
       "6                                          14.666667                      \n",
       "7                                                NaN                      \n",
       "8                                                NaN                      \n",
       "9                                           0.836058                      \n",
       "\n",
       "   Land use per 1000kcal (m² per 1000kcal)  \\\n",
       "0                                      NaN   \n",
       "1                                      NaN   \n",
       "2                                      NaN   \n",
       "3                                 2.897446   \n",
       "4                                 0.759631   \n",
       "5                                 1.202186   \n",
       "6                                 1.858316   \n",
       "7                                 0.581197   \n",
       "8                                 0.521368   \n",
       "9                                 4.565982   \n",
       "\n",
       "   Land use per kilogram (m² per kilogram)  \\\n",
       "0                                      NaN   \n",
       "1                                      NaN   \n",
       "2                                      NaN   \n",
       "3                                     7.60   \n",
       "4                                     2.80   \n",
       "5                                     0.88   \n",
       "6                                     1.81   \n",
       "7                                     2.04   \n",
       "8                                     1.83   \n",
       "9                                    15.57   \n",
       "\n",
       "   Land use per 100g protein (m² per 100g protein)  \\\n",
       "0                                              NaN   \n",
       "1                                              NaN   \n",
       "2                                              NaN   \n",
       "3                                         5.846154   \n",
       "4                                         3.943662   \n",
       "5                                         5.176471   \n",
       "6                                        20.111111   \n",
       "7                                              NaN   \n",
       "8                                              NaN   \n",
       "9                                         7.272303   \n",
       "\n",
       "   Scarcity-weighted water use per kilogram (liters per kilogram)  \\\n",
       "0                                                NaN                \n",
       "1                                                NaN                \n",
       "2                                                NaN                \n",
       "3                                            18786.2                \n",
       "4                                            49576.3                \n",
       "5                                             2754.2                \n",
       "6                                                0.0                \n",
       "7                                            16438.6                \n",
       "8                                             9493.3                \n",
       "9                                            22477.4                \n",
       "\n",
       "   Scarcity-weighted water use per 100g protein (liters per 100g protein)  \\\n",
       "0                                                NaN                        \n",
       "1                                                NaN                        \n",
       "2                                                NaN                        \n",
       "3                                        14450.92308                        \n",
       "4                                        69825.77465                        \n",
       "5                                        16201.17647                        \n",
       "6                                                NaN                        \n",
       "7                                                NaN                        \n",
       "8                                                NaN                        \n",
       "9                                        10498.55208                        \n",
       "\n",
       "   Scarcity-weighted water use per 1000kcal (liters per 1000 kilocalories)  \n",
       "0                                                NaN                        \n",
       "1                                                NaN                        \n",
       "2                                                NaN                        \n",
       "3                                        7162.104461                        \n",
       "4                                       13449.891480                        \n",
       "5                                        3762.568306                        \n",
       "6                                                NaN                        \n",
       "7                                        4683.361823                        \n",
       "8                                        2704.643875                        \n",
       "9                                                NaN                        \n",
       "\n",
       "[10 rows x 23 columns]"
      ]
     },
     "execution_count": 82,
     "metadata": {},
     "output_type": "execute_result"
    }
   ],
   "source": [
    "food_pr_df.head(10)"
   ]
  },
  {
   "attachments": {},
   "cell_type": "markdown",
   "metadata": {},
   "source": [
    "CLEANING DATA\n"
   ]
  },
  {
   "cell_type": "code",
   "execution_count": 83,
   "metadata": {},
   "outputs": [
    {
     "name": "stdout",
     "output_type": "stream",
     "text": [
      "Column Headers Cleaning Report:\n",
      "\t23 values cleaned (100.0%)\n"
     ]
    },
    {
     "data": {
      "text/html": [
       "<div>\n",
       "<style scoped>\n",
       "    .dataframe tbody tr th:only-of-type {\n",
       "        vertical-align: middle;\n",
       "    }\n",
       "\n",
       "    .dataframe tbody tr th {\n",
       "        vertical-align: top;\n",
       "    }\n",
       "\n",
       "    .dataframe thead th {\n",
       "        text-align: right;\n",
       "    }\n",
       "</style>\n",
       "<table border=\"1\" class=\"dataframe\">\n",
       "  <thead>\n",
       "    <tr style=\"text-align: right;\">\n",
       "      <th></th>\n",
       "      <th>food_product</th>\n",
       "      <th>land_use_change</th>\n",
       "      <th>animal_feed</th>\n",
       "      <th>farm</th>\n",
       "      <th>processing</th>\n",
       "      <th>transport</th>\n",
       "      <th>packging</th>\n",
       "      <th>retail</th>\n",
       "      <th>total_emissions</th>\n",
       "      <th>eutrophying_emissions_per_kilogram_g_p_oeq_per_kilogram</th>\n",
       "      <th>freshwater_withdrawals_per_kilogram_liters_per_kilogram</th>\n",
       "      <th>land_use_per_kilogram_m_per_kilogram</th>\n",
       "      <th>scarcity_weighted_water_use_per_kilogram_liters_per_kilogram</th>\n",
       "    </tr>\n",
       "  </thead>\n",
       "  <tbody>\n",
       "    <tr>\n",
       "      <th>11</th>\n",
       "      <td>Nuts</td>\n",
       "      <td>-2.1</td>\n",
       "      <td>0.0</td>\n",
       "      <td>2.1</td>\n",
       "      <td>0.0</td>\n",
       "      <td>0.1</td>\n",
       "      <td>0.1</td>\n",
       "      <td>0.0</td>\n",
       "      <td>0.2</td>\n",
       "      <td>19.15</td>\n",
       "      <td>4133.8</td>\n",
       "      <td>12.96</td>\n",
       "      <td>229889.8</td>\n",
       "    </tr>\n",
       "    <tr>\n",
       "      <th>19</th>\n",
       "      <td>Olive Oil</td>\n",
       "      <td>-0.4</td>\n",
       "      <td>0.0</td>\n",
       "      <td>4.3</td>\n",
       "      <td>0.7</td>\n",
       "      <td>0.5</td>\n",
       "      <td>0.9</td>\n",
       "      <td>0.0</td>\n",
       "      <td>6.0</td>\n",
       "      <td>37.26</td>\n",
       "      <td>2141.8</td>\n",
       "      <td>26.31</td>\n",
       "      <td>177480.2</td>\n",
       "    </tr>\n",
       "    <tr>\n",
       "      <th>25</th>\n",
       "      <td>Citrus Fruit</td>\n",
       "      <td>-0.1</td>\n",
       "      <td>0.0</td>\n",
       "      <td>0.3</td>\n",
       "      <td>0.0</td>\n",
       "      <td>0.1</td>\n",
       "      <td>0.0</td>\n",
       "      <td>0.0</td>\n",
       "      <td>0.3</td>\n",
       "      <td>2.24</td>\n",
       "      <td>82.7</td>\n",
       "      <td>0.86</td>\n",
       "      <td>4662.7</td>\n",
       "    </tr>\n",
       "    <tr>\n",
       "      <th>29</th>\n",
       "      <td>Wine</td>\n",
       "      <td>-0.1</td>\n",
       "      <td>0.0</td>\n",
       "      <td>0.6</td>\n",
       "      <td>0.1</td>\n",
       "      <td>0.1</td>\n",
       "      <td>0.7</td>\n",
       "      <td>0.0</td>\n",
       "      <td>1.4</td>\n",
       "      <td>4.57</td>\n",
       "      <td>78.9</td>\n",
       "      <td>1.78</td>\n",
       "      <td>1149.3</td>\n",
       "    </tr>\n",
       "  </tbody>\n",
       "</table>\n",
       "</div>"
      ],
      "text/plain": [
       "    food_product  land_use_change  animal_feed  farm  processing  transport  \\\n",
       "11          Nuts             -2.1          0.0   2.1         0.0        0.1   \n",
       "19     Olive Oil             -0.4          0.0   4.3         0.7        0.5   \n",
       "25  Citrus Fruit             -0.1          0.0   0.3         0.0        0.1   \n",
       "29          Wine             -0.1          0.0   0.6         0.1        0.1   \n",
       "\n",
       "    packging  retail  total_emissions  \\\n",
       "11       0.1     0.0              0.2   \n",
       "19       0.9     0.0              6.0   \n",
       "25       0.0     0.0              0.3   \n",
       "29       0.7     0.0              1.4   \n",
       "\n",
       "    eutrophying_emissions_per_kilogram_g_p_oeq_per_kilogram  \\\n",
       "11                                              19.15         \n",
       "19                                              37.26         \n",
       "25                                               2.24         \n",
       "29                                               4.57         \n",
       "\n",
       "    freshwater_withdrawals_per_kilogram_liters_per_kilogram  \\\n",
       "11                                             4133.8         \n",
       "19                                             2141.8         \n",
       "25                                               82.7         \n",
       "29                                               78.9         \n",
       "\n",
       "    land_use_per_kilogram_m_per_kilogram  \\\n",
       "11                                 12.96   \n",
       "19                                 26.31   \n",
       "25                                  0.86   \n",
       "29                                  1.78   \n",
       "\n",
       "    scarcity_weighted_water_use_per_kilogram_liters_per_kilogram  \n",
       "11                                           229889.8             \n",
       "19                                           177480.2             \n",
       "25                                             4662.7             \n",
       "29                                             1149.3             "
      ]
     },
     "execution_count": 83,
     "metadata": {},
     "output_type": "execute_result"
    }
   ],
   "source": [
    "food_pr_df = clean_headers(food_pr_df, case='snake')\n",
    "\n",
    "to_drop = [\n",
    "       'eutrophying_emissions_per_1000kcal_g_p_oeq_per_1000kcal',\n",
    "       'eutrophying_emissions_per_100g_protein_g_p_oeq_per_100_grams_protein',\n",
    "       'freshwater_withdrawals_per_1000kcal_liters_per_1000kcal',\n",
    "       'freshwater_withdrawals_per_100g_protein_liters_per_100g_protein',\n",
    "       'greenhouse_gas_emissions_per_1000kcal_kg_c_oeq_per_1000kcal',\n",
    "       'greenhouse_gas_emissions_per_100g_protein_kg_c_oeq_per_100g_protein',\n",
    "       'land_use_per_1000kcal_m_per_1000kcal',\n",
    "       'land_use_per_100g_protein_m_per_100g_protein',\n",
    "       'scarcity_weighted_water_use_per_100g_protein_liters_per_100g_protein',\n",
    "       'scarcity_weighted_water_use_per_1000kcal_liters_per_1000_kilocalories'\n",
    "       ]\n",
    "food_pr_df.drop(to_drop, axis=1, inplace=True)\n",
    "\n",
    "# Dropping every row that has a single NaN value\n",
    "food_pr_df.dropna(how='any', inplace=True)\n",
    "# Checking the negative values for the land_use_change columns as seen in df.describe()\n",
    "cond = food_pr_df['land_use_change'] < 0\n",
    "food_pr_df.loc[cond, :]"
   ]
  },
  {
   "cell_type": "code",
   "execution_count": 84,
   "metadata": {},
   "outputs": [
    {
     "data": {
      "application/vnd.plotly.v1+json": {
       "config": {
        "plotlyServerURL": "https://plot.ly"
       },
       "data": [
        {
         "alignmentgroup": "True",
         "hovertemplate": "Step Di Produzione=Coltivazione<br>food_product=%{x}<br>value=%{y}<extra></extra>",
         "legendgroup": "Coltivazione",
         "marker": {
          "color": "#067528",
          "pattern": {
           "shape": ""
          }
         },
         "name": "Coltivazione",
         "offsetgroup": "farm",
         "orientation": "v",
         "showlegend": true,
         "textposition": "outside",
         "texttemplate": "%{y:.0f}%",
         "type": "bar",
         "x": [
          "Beef (beef herd)",
          "Lamb & Mutton",
          "Cheese",
          "Beef (dairy herd)",
          "Dark Chocolate"
         ],
         "xaxis": "x",
         "y": [
          66.10738255033557,
          79.59183673469387,
          61.79245283018868,
          74.40758293838863,
          19.786096256684495
         ],
         "yaxis": "y"
        },
        {
         "alignmentgroup": "True",
         "hovertemplate": "Step Di Produzione=Utilizzo di terreno<br>food_product=%{x}<br>value=%{y}<extra></extra>",
         "legendgroup": "Utilizzo di terreno",
         "marker": {
          "color": "#725428",
          "pattern": {
           "shape": ""
          }
         },
         "name": "Utilizzo di terreno",
         "offsetgroup": "land_use_change",
         "orientation": "v",
         "showlegend": true,
         "textposition": "outside",
         "texttemplate": "%{y:.0f}%",
         "type": "bar",
         "x": [
          "Beef (beef herd)",
          "Lamb & Mutton",
          "Cheese",
          "Beef (dairy herd)",
          "Dark Chocolate"
         ],
         "xaxis": "x",
         "y": [
          27.348993288590606,
          2.0408163265306123,
          21.22641509433962,
          4.265402843601896,
          76.47058823529413
         ],
         "yaxis": "y"
        },
        {
         "alignmentgroup": "True",
         "hovertemplate": "Step Di Produzione=Alimenti per animali<br>food_product=%{x}<br>value=%{y}<extra></extra>",
         "legendgroup": "Alimenti per animali",
         "marker": {
          "color": "#b8615c",
          "pattern": {
           "shape": ""
          }
         },
         "name": "Alimenti per animali",
         "offsetgroup": "animal_feed",
         "orientation": "v",
         "showlegend": true,
         "textposition": "outside",
         "texttemplate": "%{y:.0f}%",
         "type": "bar",
         "x": [
          "Beef (beef herd)",
          "Lamb & Mutton",
          "Cheese",
          "Beef (dairy herd)",
          "Dark Chocolate"
         ],
         "xaxis": "x",
         "y": [
          3.1879194630872485,
          9.795918367346939,
          10.849056603773583,
          11.84834123222749,
          0
         ],
         "yaxis": "y"
        },
        {
         "alignmentgroup": "True",
         "hovertemplate": "Step Di Produzione=Processo<br>food_product=%{x}<br>value=%{y}<extra></extra>",
         "legendgroup": "Processo",
         "marker": {
          "color": "#1a53ff",
          "pattern": {
           "shape": ""
          }
         },
         "name": "Processo",
         "offsetgroup": "processing",
         "orientation": "v",
         "showlegend": true,
         "textposition": "outside",
         "texttemplate": "%{y:.0f}%",
         "type": "bar",
         "x": [
          "Beef (beef herd)",
          "Lamb & Mutton",
          "Cheese",
          "Beef (dairy herd)",
          "Dark Chocolate"
         ],
         "xaxis": "x",
         "y": [
          2.1812080536912757,
          4.4897959183673475,
          3.30188679245283,
          5.213270142180096,
          1.0695187165775402
         ],
         "yaxis": "y"
        },
        {
         "alignmentgroup": "True",
         "hovertemplate": "Step Di Produzione=Trasporti<br>food_product=%{x}<br>value=%{y}<extra></extra>",
         "legendgroup": "Trasporti",
         "marker": {
          "color": "#36454F",
          "pattern": {
           "shape": ""
          }
         },
         "name": "Trasporti",
         "offsetgroup": "transport",
         "orientation": "v",
         "showlegend": true,
         "textposition": "outside",
         "texttemplate": "%{y:.0f}%",
         "type": "bar",
         "x": [
          "Beef (beef herd)",
          "Lamb & Mutton",
          "Cheese",
          "Beef (dairy herd)",
          "Dark Chocolate"
         ],
         "xaxis": "x",
         "y": [
          0.5033557046979866,
          2.0408163265306123,
          0.47169811320754723,
          1.8957345971563981,
          0.5347593582887701
         ],
         "yaxis": "y"
        },
        {
         "alignmentgroup": "True",
         "hovertemplate": "Step Di Produzione=Packaging<br>food_product=%{x}<br>value=%{y}<extra></extra>",
         "legendgroup": "Packaging",
         "marker": {
          "color": "#913D94",
          "pattern": {
           "shape": ""
          }
         },
         "name": "Packaging",
         "offsetgroup": "packging",
         "orientation": "v",
         "showlegend": true,
         "textposition": "outside",
         "texttemplate": "%{y:.0f}%",
         "type": "bar",
         "x": [
          "Beef (beef herd)",
          "Lamb & Mutton",
          "Cheese",
          "Beef (dairy herd)",
          "Dark Chocolate"
         ],
         "xaxis": "x",
         "y": [
          0.33557046979865773,
          1.2244897959183674,
          0.9433962264150945,
          1.4218009478672986,
          2.1390374331550803
         ],
         "yaxis": "y"
        },
        {
         "alignmentgroup": "True",
         "hovertemplate": "Step Di Produzione=Rivendita<br>food_product=%{x}<br>value=%{y}<extra></extra>",
         "legendgroup": "Rivendita",
         "marker": {
          "color": "#00DCF0",
          "pattern": {
           "shape": ""
          }
         },
         "name": "Rivendita",
         "offsetgroup": "retail",
         "orientation": "v",
         "showlegend": true,
         "textposition": "outside",
         "texttemplate": "%{y:.0f}%",
         "type": "bar",
         "x": [
          "Beef (beef herd)",
          "Lamb & Mutton",
          "Cheese",
          "Beef (dairy herd)",
          "Dark Chocolate"
         ],
         "xaxis": "x",
         "y": [
          0.33557046979865773,
          0.8163265306122449,
          1.4150943396226416,
          0.9478672985781991,
          0
         ],
         "yaxis": "y"
        }
       ],
       "layout": {
        "barmode": "group",
        "font": {
         "size": 15
        },
        "height": 650,
        "legend": {
         "title": {
          "text": "Step Di Produzione"
         },
         "tracegroupgap": 0,
         "x": 0.95
        },
        "paper_bgcolor": "rgba(0,0,0,0)",
        "plot_bgcolor": "rgba(0,0,0,0)",
        "template": {
         "data": {
          "bar": [
           {
            "error_x": {
             "color": "rgb(36,36,36)"
            },
            "error_y": {
             "color": "rgb(36,36,36)"
            },
            "marker": {
             "line": {
              "color": "white",
              "width": 0.5
             },
             "pattern": {
              "fillmode": "overlay",
              "size": 10,
              "solidity": 0.2
             }
            },
            "type": "bar"
           }
          ],
          "barpolar": [
           {
            "marker": {
             "line": {
              "color": "white",
              "width": 0.5
             },
             "pattern": {
              "fillmode": "overlay",
              "size": 10,
              "solidity": 0.2
             }
            },
            "type": "barpolar"
           }
          ],
          "carpet": [
           {
            "aaxis": {
             "endlinecolor": "rgb(36,36,36)",
             "gridcolor": "white",
             "linecolor": "white",
             "minorgridcolor": "white",
             "startlinecolor": "rgb(36,36,36)"
            },
            "baxis": {
             "endlinecolor": "rgb(36,36,36)",
             "gridcolor": "white",
             "linecolor": "white",
             "minorgridcolor": "white",
             "startlinecolor": "rgb(36,36,36)"
            },
            "type": "carpet"
           }
          ],
          "choropleth": [
           {
            "colorbar": {
             "outlinewidth": 1,
             "tickcolor": "rgb(36,36,36)",
             "ticks": "outside"
            },
            "type": "choropleth"
           }
          ],
          "contour": [
           {
            "colorbar": {
             "outlinewidth": 1,
             "tickcolor": "rgb(36,36,36)",
             "ticks": "outside"
            },
            "colorscale": [
             [
              0,
              "#440154"
             ],
             [
              0.1111111111111111,
              "#482878"
             ],
             [
              0.2222222222222222,
              "#3e4989"
             ],
             [
              0.3333333333333333,
              "#31688e"
             ],
             [
              0.4444444444444444,
              "#26828e"
             ],
             [
              0.5555555555555556,
              "#1f9e89"
             ],
             [
              0.6666666666666666,
              "#35b779"
             ],
             [
              0.7777777777777778,
              "#6ece58"
             ],
             [
              0.8888888888888888,
              "#b5de2b"
             ],
             [
              1,
              "#fde725"
             ]
            ],
            "type": "contour"
           }
          ],
          "contourcarpet": [
           {
            "colorbar": {
             "outlinewidth": 1,
             "tickcolor": "rgb(36,36,36)",
             "ticks": "outside"
            },
            "type": "contourcarpet"
           }
          ],
          "heatmap": [
           {
            "colorbar": {
             "outlinewidth": 1,
             "tickcolor": "rgb(36,36,36)",
             "ticks": "outside"
            },
            "colorscale": [
             [
              0,
              "#440154"
             ],
             [
              0.1111111111111111,
              "#482878"
             ],
             [
              0.2222222222222222,
              "#3e4989"
             ],
             [
              0.3333333333333333,
              "#31688e"
             ],
             [
              0.4444444444444444,
              "#26828e"
             ],
             [
              0.5555555555555556,
              "#1f9e89"
             ],
             [
              0.6666666666666666,
              "#35b779"
             ],
             [
              0.7777777777777778,
              "#6ece58"
             ],
             [
              0.8888888888888888,
              "#b5de2b"
             ],
             [
              1,
              "#fde725"
             ]
            ],
            "type": "heatmap"
           }
          ],
          "heatmapgl": [
           {
            "colorbar": {
             "outlinewidth": 1,
             "tickcolor": "rgb(36,36,36)",
             "ticks": "outside"
            },
            "colorscale": [
             [
              0,
              "#440154"
             ],
             [
              0.1111111111111111,
              "#482878"
             ],
             [
              0.2222222222222222,
              "#3e4989"
             ],
             [
              0.3333333333333333,
              "#31688e"
             ],
             [
              0.4444444444444444,
              "#26828e"
             ],
             [
              0.5555555555555556,
              "#1f9e89"
             ],
             [
              0.6666666666666666,
              "#35b779"
             ],
             [
              0.7777777777777778,
              "#6ece58"
             ],
             [
              0.8888888888888888,
              "#b5de2b"
             ],
             [
              1,
              "#fde725"
             ]
            ],
            "type": "heatmapgl"
           }
          ],
          "histogram": [
           {
            "marker": {
             "line": {
              "color": "white",
              "width": 0.6
             }
            },
            "type": "histogram"
           }
          ],
          "histogram2d": [
           {
            "colorbar": {
             "outlinewidth": 1,
             "tickcolor": "rgb(36,36,36)",
             "ticks": "outside"
            },
            "colorscale": [
             [
              0,
              "#440154"
             ],
             [
              0.1111111111111111,
              "#482878"
             ],
             [
              0.2222222222222222,
              "#3e4989"
             ],
             [
              0.3333333333333333,
              "#31688e"
             ],
             [
              0.4444444444444444,
              "#26828e"
             ],
             [
              0.5555555555555556,
              "#1f9e89"
             ],
             [
              0.6666666666666666,
              "#35b779"
             ],
             [
              0.7777777777777778,
              "#6ece58"
             ],
             [
              0.8888888888888888,
              "#b5de2b"
             ],
             [
              1,
              "#fde725"
             ]
            ],
            "type": "histogram2d"
           }
          ],
          "histogram2dcontour": [
           {
            "colorbar": {
             "outlinewidth": 1,
             "tickcolor": "rgb(36,36,36)",
             "ticks": "outside"
            },
            "colorscale": [
             [
              0,
              "#440154"
             ],
             [
              0.1111111111111111,
              "#482878"
             ],
             [
              0.2222222222222222,
              "#3e4989"
             ],
             [
              0.3333333333333333,
              "#31688e"
             ],
             [
              0.4444444444444444,
              "#26828e"
             ],
             [
              0.5555555555555556,
              "#1f9e89"
             ],
             [
              0.6666666666666666,
              "#35b779"
             ],
             [
              0.7777777777777778,
              "#6ece58"
             ],
             [
              0.8888888888888888,
              "#b5de2b"
             ],
             [
              1,
              "#fde725"
             ]
            ],
            "type": "histogram2dcontour"
           }
          ],
          "mesh3d": [
           {
            "colorbar": {
             "outlinewidth": 1,
             "tickcolor": "rgb(36,36,36)",
             "ticks": "outside"
            },
            "type": "mesh3d"
           }
          ],
          "parcoords": [
           {
            "line": {
             "colorbar": {
              "outlinewidth": 1,
              "tickcolor": "rgb(36,36,36)",
              "ticks": "outside"
             }
            },
            "type": "parcoords"
           }
          ],
          "pie": [
           {
            "automargin": true,
            "type": "pie"
           }
          ],
          "scatter": [
           {
            "fillpattern": {
             "fillmode": "overlay",
             "size": 10,
             "solidity": 0.2
            },
            "type": "scatter"
           }
          ],
          "scatter3d": [
           {
            "line": {
             "colorbar": {
              "outlinewidth": 1,
              "tickcolor": "rgb(36,36,36)",
              "ticks": "outside"
             }
            },
            "marker": {
             "colorbar": {
              "outlinewidth": 1,
              "tickcolor": "rgb(36,36,36)",
              "ticks": "outside"
             }
            },
            "type": "scatter3d"
           }
          ],
          "scattercarpet": [
           {
            "marker": {
             "colorbar": {
              "outlinewidth": 1,
              "tickcolor": "rgb(36,36,36)",
              "ticks": "outside"
             }
            },
            "type": "scattercarpet"
           }
          ],
          "scattergeo": [
           {
            "marker": {
             "colorbar": {
              "outlinewidth": 1,
              "tickcolor": "rgb(36,36,36)",
              "ticks": "outside"
             }
            },
            "type": "scattergeo"
           }
          ],
          "scattergl": [
           {
            "marker": {
             "colorbar": {
              "outlinewidth": 1,
              "tickcolor": "rgb(36,36,36)",
              "ticks": "outside"
             }
            },
            "type": "scattergl"
           }
          ],
          "scattermapbox": [
           {
            "marker": {
             "colorbar": {
              "outlinewidth": 1,
              "tickcolor": "rgb(36,36,36)",
              "ticks": "outside"
             }
            },
            "type": "scattermapbox"
           }
          ],
          "scatterpolar": [
           {
            "marker": {
             "colorbar": {
              "outlinewidth": 1,
              "tickcolor": "rgb(36,36,36)",
              "ticks": "outside"
             }
            },
            "type": "scatterpolar"
           }
          ],
          "scatterpolargl": [
           {
            "marker": {
             "colorbar": {
              "outlinewidth": 1,
              "tickcolor": "rgb(36,36,36)",
              "ticks": "outside"
             }
            },
            "type": "scatterpolargl"
           }
          ],
          "scatterternary": [
           {
            "marker": {
             "colorbar": {
              "outlinewidth": 1,
              "tickcolor": "rgb(36,36,36)",
              "ticks": "outside"
             }
            },
            "type": "scatterternary"
           }
          ],
          "surface": [
           {
            "colorbar": {
             "outlinewidth": 1,
             "tickcolor": "rgb(36,36,36)",
             "ticks": "outside"
            },
            "colorscale": [
             [
              0,
              "#440154"
             ],
             [
              0.1111111111111111,
              "#482878"
             ],
             [
              0.2222222222222222,
              "#3e4989"
             ],
             [
              0.3333333333333333,
              "#31688e"
             ],
             [
              0.4444444444444444,
              "#26828e"
             ],
             [
              0.5555555555555556,
              "#1f9e89"
             ],
             [
              0.6666666666666666,
              "#35b779"
             ],
             [
              0.7777777777777778,
              "#6ece58"
             ],
             [
              0.8888888888888888,
              "#b5de2b"
             ],
             [
              1,
              "#fde725"
             ]
            ],
            "type": "surface"
           }
          ],
          "table": [
           {
            "cells": {
             "fill": {
              "color": "rgb(237,237,237)"
             },
             "line": {
              "color": "white"
             }
            },
            "header": {
             "fill": {
              "color": "rgb(217,217,217)"
             },
             "line": {
              "color": "white"
             }
            },
            "type": "table"
           }
          ]
         },
         "layout": {
          "annotationdefaults": {
           "arrowhead": 0,
           "arrowwidth": 1
          },
          "autotypenumbers": "strict",
          "coloraxis": {
           "colorbar": {
            "outlinewidth": 1,
            "tickcolor": "rgb(36,36,36)",
            "ticks": "outside"
           }
          },
          "colorscale": {
           "diverging": [
            [
             0,
             "rgb(103,0,31)"
            ],
            [
             0.1,
             "rgb(178,24,43)"
            ],
            [
             0.2,
             "rgb(214,96,77)"
            ],
            [
             0.3,
             "rgb(244,165,130)"
            ],
            [
             0.4,
             "rgb(253,219,199)"
            ],
            [
             0.5,
             "rgb(247,247,247)"
            ],
            [
             0.6,
             "rgb(209,229,240)"
            ],
            [
             0.7,
             "rgb(146,197,222)"
            ],
            [
             0.8,
             "rgb(67,147,195)"
            ],
            [
             0.9,
             "rgb(33,102,172)"
            ],
            [
             1,
             "rgb(5,48,97)"
            ]
           ],
           "sequential": [
            [
             0,
             "#440154"
            ],
            [
             0.1111111111111111,
             "#482878"
            ],
            [
             0.2222222222222222,
             "#3e4989"
            ],
            [
             0.3333333333333333,
             "#31688e"
            ],
            [
             0.4444444444444444,
             "#26828e"
            ],
            [
             0.5555555555555556,
             "#1f9e89"
            ],
            [
             0.6666666666666666,
             "#35b779"
            ],
            [
             0.7777777777777778,
             "#6ece58"
            ],
            [
             0.8888888888888888,
             "#b5de2b"
            ],
            [
             1,
             "#fde725"
            ]
           ],
           "sequentialminus": [
            [
             0,
             "#440154"
            ],
            [
             0.1111111111111111,
             "#482878"
            ],
            [
             0.2222222222222222,
             "#3e4989"
            ],
            [
             0.3333333333333333,
             "#31688e"
            ],
            [
             0.4444444444444444,
             "#26828e"
            ],
            [
             0.5555555555555556,
             "#1f9e89"
            ],
            [
             0.6666666666666666,
             "#35b779"
            ],
            [
             0.7777777777777778,
             "#6ece58"
            ],
            [
             0.8888888888888888,
             "#b5de2b"
            ],
            [
             1,
             "#fde725"
            ]
           ]
          },
          "colorway": [
           "#1F77B4",
           "#FF7F0E",
           "#2CA02C",
           "#D62728",
           "#9467BD",
           "#8C564B",
           "#E377C2",
           "#7F7F7F",
           "#BCBD22",
           "#17BECF"
          ],
          "font": {
           "color": "rgb(36,36,36)"
          },
          "geo": {
           "bgcolor": "white",
           "lakecolor": "white",
           "landcolor": "white",
           "showlakes": true,
           "showland": true,
           "subunitcolor": "white"
          },
          "hoverlabel": {
           "align": "left"
          },
          "hovermode": "closest",
          "mapbox": {
           "style": "light"
          },
          "paper_bgcolor": "white",
          "plot_bgcolor": "white",
          "polar": {
           "angularaxis": {
            "gridcolor": "rgb(232,232,232)",
            "linecolor": "rgb(36,36,36)",
            "showgrid": false,
            "showline": true,
            "ticks": "outside"
           },
           "bgcolor": "white",
           "radialaxis": {
            "gridcolor": "rgb(232,232,232)",
            "linecolor": "rgb(36,36,36)",
            "showgrid": false,
            "showline": true,
            "ticks": "outside"
           }
          },
          "scene": {
           "xaxis": {
            "backgroundcolor": "white",
            "gridcolor": "rgb(232,232,232)",
            "gridwidth": 2,
            "linecolor": "rgb(36,36,36)",
            "showbackground": true,
            "showgrid": false,
            "showline": true,
            "ticks": "outside",
            "zeroline": false,
            "zerolinecolor": "rgb(36,36,36)"
           },
           "yaxis": {
            "backgroundcolor": "white",
            "gridcolor": "rgb(232,232,232)",
            "gridwidth": 2,
            "linecolor": "rgb(36,36,36)",
            "showbackground": true,
            "showgrid": false,
            "showline": true,
            "ticks": "outside",
            "zeroline": false,
            "zerolinecolor": "rgb(36,36,36)"
           },
           "zaxis": {
            "backgroundcolor": "white",
            "gridcolor": "rgb(232,232,232)",
            "gridwidth": 2,
            "linecolor": "rgb(36,36,36)",
            "showbackground": true,
            "showgrid": false,
            "showline": true,
            "ticks": "outside",
            "zeroline": false,
            "zerolinecolor": "rgb(36,36,36)"
           }
          },
          "shapedefaults": {
           "fillcolor": "black",
           "line": {
            "width": 0
           },
           "opacity": 0.3
          },
          "ternary": {
           "aaxis": {
            "gridcolor": "rgb(232,232,232)",
            "linecolor": "rgb(36,36,36)",
            "showgrid": false,
            "showline": true,
            "ticks": "outside"
           },
           "baxis": {
            "gridcolor": "rgb(232,232,232)",
            "linecolor": "rgb(36,36,36)",
            "showgrid": false,
            "showline": true,
            "ticks": "outside"
           },
           "bgcolor": "white",
           "caxis": {
            "gridcolor": "rgb(232,232,232)",
            "linecolor": "rgb(36,36,36)",
            "showgrid": false,
            "showline": true,
            "ticks": "outside"
           }
          },
          "title": {
           "x": 0.05
          },
          "xaxis": {
           "automargin": true,
           "gridcolor": "rgb(232,232,232)",
           "linecolor": "rgb(36,36,36)",
           "showgrid": false,
           "showline": true,
           "ticks": "outside",
           "title": {
            "standoff": 15
           },
           "zeroline": false,
           "zerolinecolor": "rgb(36,36,36)"
          },
          "yaxis": {
           "automargin": true,
           "gridcolor": "rgb(232,232,232)",
           "linecolor": "rgb(36,36,36)",
           "showgrid": false,
           "showline": true,
           "ticks": "outside",
           "title": {
            "standoff": 15
           },
           "zeroline": false,
           "zerolinecolor": "rgb(36,36,36)"
          }
         }
        },
        "title": {
         "text": "Top 5 alimenti per contribuzione di emissione per categoria (%)",
         "x": 0.5,
         "xanchor": "center",
         "y": 0.9,
         "yanchor": "top"
        },
        "uniformtext": {
         "minsize": 6,
         "mode": "hide"
        },
        "width": 1500,
        "xaxis": {
         "anchor": "y",
         "domain": [
          0,
          1
         ],
         "title": {}
        },
        "yaxis": {
         "anchor": "x",
         "domain": [
          0,
          1
         ],
         "range": [
          0,
          100
         ],
         "ticksuffix": "%",
         "title": {}
        }
       }
      }
     },
     "metadata": {},
     "output_type": "display_data"
    }
   ],
   "source": [
    "cond=food_pr_df['food_product'].isin(['Beef (beef herd)', 'Lamb & Mutton', 'Cheese', 'Beef (dairy herd)', 'Dark Chocolate', 'Coffee', 'Palm Oil', 'Pig Meat', 'Poultry Meat', 'Olive Oil'])\n",
    "df = food_pr_df.loc[cond, 'food_product':'total_emissions'].sort_values(by='total_emissions', ascending=False)\n",
    "df = df.drop(columns='total_emissions')\n",
    "df = df.set_index('food_product')\n",
    "df = df.div(df.sum(axis=1), axis=0)*100\n",
    "df = df.reset_index()\n",
    "\n",
    "# Colors\n",
    "colors = [\"#067528\", \"#725428\", \"#b8615c\", \"#1a53ff\", \"#36454F\", \"#913D94\", \"#00DCF0\"]\n",
    "\n",
    "# Graph 1\n",
    "fig = px.bar(\n",
    "    df[:5], \n",
    "    y=['farm', 'land_use_change', 'animal_feed',  'processing', 'transport', 'packging', 'retail'], \n",
    "    x='food_product', \n",
    "    title=\"CO2 emissions\",\n",
    "    color_discrete_sequence=colors,\n",
    "    barmode='group',\n",
    "    orientation='v',\n",
    "    template='simple_white',\n",
    "    labels={\n",
    "        'variable':'Step Di Produzione'}\n",
    ")\n",
    "# Traces 1\n",
    "fig.update_traces(\n",
    "    texttemplate=\"%{y:.0f}%\", \n",
    "    textposition='outside',\n",
    "    )\n",
    "\n",
    "# Layout 1\n",
    "fig.update_layout(\n",
    "    width=1500,\n",
    "    height=650,\n",
    "    title = 'Top 5 alimenti per contribuzione di emissione per categoria (%)',     \n",
    "    title_x = 0.5,     \n",
    "    title_y = 0.9,     \n",
    "    title_xanchor='center',     \n",
    "    title_yanchor='top',\n",
    "    \n",
    "    yaxis = dict(\n",
    "        title=None,\n",
    "        ticksuffix='%',\n",
    "        range=[0,100]),\n",
    "    \n",
    "    xaxis = dict(\n",
    "        title=None),\n",
    "    uniformtext_minsize=6, \n",
    "    uniformtext_mode='hide',\n",
    "    legend=dict(x=0.95),\n",
    "    paper_bgcolor='rgba(0,0,0,0)',\n",
    "    plot_bgcolor='rgba(0,0,0,0)',\n",
    "    font=dict(\n",
    "        # family=\"Courier New, monospace\",\n",
    "        size=15,  # Set the font size here\n",
    "    ),\n",
    ")\n",
    "newnames ={ 'farm':\"Coltivazione\", 'land_use_change':'Utilizzo di terreno', 'animal_feed':'Alimenti per animali', \n",
    "          'processing':'Processo', 'transport':'Trasporti', 'packging':'Packaging', 'retail':'Rivendita'}\n",
    "fig.for_each_trace(lambda t: t.update(name = newnames[t.name],\n",
    "                                      legendgroup = newnames[t.name],\n",
    "                                      hovertemplate = t.hovertemplate.replace(t.name, newnames[t.name])\n",
    "                                     )\n",
    "                  )\n",
    "\n",
    "# Visualization\n",
    "fig.show()\n",
    "\n"
   ]
  },
  {
   "cell_type": "code",
   "execution_count": 85,
   "metadata": {},
   "outputs": [],
   "source": [
    "\n",
    "# save the graph in a json file\n",
    "with open('graph.json', 'w') as f:\n",
    "    json.dump(json.loads(fig.to_json()), f)"
   ]
  },
  {
   "cell_type": "code",
   "execution_count": 86,
   "metadata": {},
   "outputs": [],
   "source": [
    "# print(\"var farm =\", df['farm'].tolist())\n",
    "# print(\"var land_use_change =\",df['land_use_change'].tolist())\n",
    "# print(\"var animal_feed =\",df['animal_feed'].tolist())\n",
    "# print(\"var processing =\",df['processing'].tolist())\n",
    "# print(\"var transport =\",df['transport'].tolist())\n",
    "# print(\"var packging =\",df['packging'].tolist())\n",
    "# print(\"var retail =\",df['retail'].tolist())\n",
    "# print(\"var food_product =\",df['food_product'].tolist())\n",
    "\n"
   ]
  }
 ],
 "metadata": {
  "kernelspec": {
   "display_name": "base",
   "language": "python",
   "name": "python3"
  },
  "language_info": {
   "codemirror_mode": {
    "name": "ipython",
    "version": 3
   },
   "file_extension": ".py",
   "mimetype": "text/x-python",
   "name": "python",
   "nbconvert_exporter": "python",
   "pygments_lexer": "ipython3",
   "version": "3.9.13"
  },
  "orig_nbformat": 4
 },
 "nbformat": 4,
 "nbformat_minor": 2
}
